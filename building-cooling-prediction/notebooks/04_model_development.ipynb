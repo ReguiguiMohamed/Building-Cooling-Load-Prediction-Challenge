{
 "cells": [
  {
   "cell_type": "markdown",
   "metadata": {},
   "source": [
    "# Model Development\n",
    "This notebook documents baseline, tree-based, and deep learning models used for building cooling load prediction.\n",
    "\n",
    "## Baseline Models\n",
    "- Mean predictor\n",
    "- Last value predictor\n",
    "- Linear regression baseline\n",
    "\n",
    "## Tree-Based Models\n",
    "- XGBoost\n",
    "- LightGBM\n",
    "\n",
    "## Deep Learning Models\n",
    "- LSTM network\n"
   ]
  }
 ],
 "metadata": {
  "language_info": {"name": "python"}
 },
 "nbformat": 4,
 "nbformat_minor": 2
}

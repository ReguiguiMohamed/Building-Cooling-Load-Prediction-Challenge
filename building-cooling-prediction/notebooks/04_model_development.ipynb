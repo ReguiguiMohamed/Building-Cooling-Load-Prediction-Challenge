{
 "cells": [
  {
   "cell_type": "markdown",
   "metadata": {},
   "source": [
    "# Model Development\n",
    "This notebook develops and documents baseline, tree-based, and LSTM models for building cooling load prediction using reusable src modules."
   ]
  },
  {
   "cell_type": "code",
   "execution_count": 10,
   "metadata": {},
   "outputs": [],
   "source": [
    "# Setup imports and paths\n",
    "import os, sys\n",
    "import numpy as np\n",
    "import pandas as pd\n",
    "sys.path.append('..')  # allow importing from src\n",
    "from src.evaluation.validation import simple_train_test_split\n",
    "from src.evaluation.metrics import nrmse\n",
    "from src.models.baseline_models import MeanBaseline, LastValueBaseline, LinearRegressionBaseline\n",
    "from src.models.tree_models import train_xgboost, train_lightgbm\n",
    "from src.models.deep_learning import train_lstm\n",
    "data_path = '../data/processed/features_train.csv'\n",
    "assert os.path.exists(data_path), f'Missing {data_path}. Run feature engineering first.'"
   ]
  },
  {
   "cell_type": "markdown",
   "metadata": {},
   "source": [
    "## Load and Prepare Data"
   ]
  },
  {
   "cell_type": "code",
   "execution_count": 11,
   "metadata": {},
   "outputs": [
    {
     "data": {
      "text/plain": [
       "((7008, 41), (1752, 41), (7008,), (1752,))"
      ]
     },
     "execution_count": 11,
     "metadata": {},
     "output_type": "execute_result"
    }
   ],
   "source": [
    "df = pd.read_csv(data_path)\n",
    "target_col = 'Total_Cooling_Load'\n",
    "# Select numeric features, drop the target\n",
    "num_df = df.select_dtypes(include=[np.number])\n",
    "assert target_col in num_df.columns, 'Target column not found in numeric columns'\n",
    "X = num_df.drop(columns=[target_col]).fillna(num_df.median(numeric_only=True))\n",
    "y = num_df[target_col].values\n",
    "X_train, X_test, y_train, y_test = simple_train_test_split(X.values, y, test_size=0.2, random_state=42)\n",
    "X_train.shape, X_test.shape, y_train.shape, y_test.shape"
   ]
  },
  {
   "cell_type": "markdown",
   "metadata": {},
   "source": [
    "## Baseline Models"
   ]
  },
  {
   "cell_type": "code",
   "execution_count": 12,
   "metadata": {},
   "outputs": [
    {
     "ename": "TypeError",
     "evalue": "got an unexpected keyword argument 'squared'",
     "output_type": "error",
     "traceback": [
      "\u001b[31m---------------------------------------------------------------------------\u001b[39m",
      "\u001b[31mTypeError\u001b[39m                                 Traceback (most recent call last)",
      "\u001b[36mCell\u001b[39m\u001b[36m \u001b[39m\u001b[32mIn[12]\u001b[39m\u001b[32m, line 5\u001b[39m\n\u001b[32m      3\u001b[39m mean_model = MeanBaseline().fit(y_train)\n\u001b[32m      4\u001b[39m y_pred_mean = mean_model.predict(X_test)\n\u001b[32m----> \u001b[39m\u001b[32m5\u001b[39m results[\u001b[33m'\u001b[39m\u001b[33mmean_baseline\u001b[39m\u001b[33m'\u001b[39m] = \u001b[43mnrmse\u001b[49m\u001b[43m(\u001b[49m\u001b[43my_test\u001b[49m\u001b[43m,\u001b[49m\u001b[43m \u001b[49m\u001b[43my_pred_mean\u001b[49m\u001b[43m)\u001b[49m\n\u001b[32m      6\u001b[39m \u001b[38;5;66;03m# Last value baseline\u001b[39;00m\n\u001b[32m      7\u001b[39m last_model = LastValueBaseline().fit(y_train)\n",
      "\u001b[36mFile \u001b[39m\u001b[32mc:\\Users\\ahmed\\Downloads\\Building-Cooling-Load-Prediction-Challenge\\building-cooling-prediction\\notebooks\\..\\src\\evaluation\\metrics.py:15\u001b[39m, in \u001b[36mnrmse\u001b[39m\u001b[34m(y_true, y_pred)\u001b[39m\n\u001b[32m     13\u001b[39m \u001b[38;5;28;01mif\u001b[39;00m denominator == \u001b[32m0\u001b[39m:\n\u001b[32m     14\u001b[39m     \u001b[38;5;28;01mreturn\u001b[39;00m np.nan\n\u001b[32m---> \u001b[39m\u001b[32m15\u001b[39m \u001b[38;5;28;01mreturn\u001b[39;00m \u001b[43mrmse\u001b[49m\u001b[43m(\u001b[49m\u001b[43my_true\u001b[49m\u001b[43m,\u001b[49m\u001b[43m \u001b[49m\u001b[43my_pred\u001b[49m\u001b[43m)\u001b[49m / denominator\n",
      "\u001b[36mFile \u001b[39m\u001b[32mc:\\Users\\ahmed\\Downloads\\Building-Cooling-Load-Prediction-Challenge\\building-cooling-prediction\\notebooks\\..\\src\\evaluation\\metrics.py:7\u001b[39m, in \u001b[36mrmse\u001b[39m\u001b[34m(y_true, y_pred)\u001b[39m\n\u001b[32m      5\u001b[39m \u001b[38;5;28;01mdef\u001b[39;00m\u001b[38;5;250m \u001b[39m\u001b[34mrmse\u001b[39m(y_true, y_pred):\n\u001b[32m      6\u001b[39m \u001b[38;5;250m    \u001b[39m\u001b[33;03m\"\"\"Root mean squared error.\"\"\"\u001b[39;00m\n\u001b[32m----> \u001b[39m\u001b[32m7\u001b[39m     \u001b[38;5;28;01mreturn\u001b[39;00m \u001b[43mmean_squared_error\u001b[49m\u001b[43m(\u001b[49m\u001b[43my_true\u001b[49m\u001b[43m,\u001b[49m\u001b[43m \u001b[49m\u001b[43my_pred\u001b[49m\u001b[43m,\u001b[49m\u001b[43m \u001b[49m\u001b[43msquared\u001b[49m\u001b[43m=\u001b[49m\u001b[38;5;28;43;01mFalse\u001b[39;49;00m\u001b[43m)\u001b[49m\n",
      "\u001b[36mFile \u001b[39m\u001b[32mc:\\Users\\ahmed\\Downloads\\Building-Cooling-Load-Prediction-Challenge\\venv\\Lib\\site-packages\\sklearn\\utils\\_param_validation.py:196\u001b[39m, in \u001b[36mvalidate_params.<locals>.decorator.<locals>.wrapper\u001b[39m\u001b[34m(*args, **kwargs)\u001b[39m\n\u001b[32m    193\u001b[39m func_sig = signature(func)\n\u001b[32m    195\u001b[39m \u001b[38;5;66;03m# Map *args/**kwargs to the function signature\u001b[39;00m\n\u001b[32m--> \u001b[39m\u001b[32m196\u001b[39m params = \u001b[43mfunc_sig\u001b[49m\u001b[43m.\u001b[49m\u001b[43mbind\u001b[49m\u001b[43m(\u001b[49m\u001b[43m*\u001b[49m\u001b[43margs\u001b[49m\u001b[43m,\u001b[49m\u001b[43m \u001b[49m\u001b[43m*\u001b[49m\u001b[43m*\u001b[49m\u001b[43mkwargs\u001b[49m\u001b[43m)\u001b[49m\n\u001b[32m    197\u001b[39m params.apply_defaults()\n\u001b[32m    199\u001b[39m \u001b[38;5;66;03m# ignore self/cls and positional/keyword markers\u001b[39;00m\n",
      "\u001b[36mFile \u001b[39m\u001b[32mC:\\Program Files\\WindowsApps\\PythonSoftwareFoundation.Python.3.11_3.11.2544.0_x64__qbz5n2kfra8p0\\Lib\\inspect.py:3195\u001b[39m, in \u001b[36mSignature.bind\u001b[39m\u001b[34m(self, *args, **kwargs)\u001b[39m\n\u001b[32m   3190\u001b[39m \u001b[38;5;28;01mdef\u001b[39;00m\u001b[38;5;250m \u001b[39m\u001b[34mbind\u001b[39m(\u001b[38;5;28mself\u001b[39m, /, *args, **kwargs):\n\u001b[32m   3191\u001b[39m \u001b[38;5;250m    \u001b[39m\u001b[33;03m\"\"\"Get a BoundArguments object, that maps the passed `args`\u001b[39;00m\n\u001b[32m   3192\u001b[39m \u001b[33;03m    and `kwargs` to the function's signature.  Raises `TypeError`\u001b[39;00m\n\u001b[32m   3193\u001b[39m \u001b[33;03m    if the passed arguments can not be bound.\u001b[39;00m\n\u001b[32m   3194\u001b[39m \u001b[33;03m    \"\"\"\u001b[39;00m\n\u001b[32m-> \u001b[39m\u001b[32m3195\u001b[39m     \u001b[38;5;28;01mreturn\u001b[39;00m \u001b[38;5;28;43mself\u001b[39;49m\u001b[43m.\u001b[49m\u001b[43m_bind\u001b[49m\u001b[43m(\u001b[49m\u001b[43margs\u001b[49m\u001b[43m,\u001b[49m\u001b[43m \u001b[49m\u001b[43mkwargs\u001b[49m\u001b[43m)\u001b[49m\n",
      "\u001b[36mFile \u001b[39m\u001b[32mC:\\Program Files\\WindowsApps\\PythonSoftwareFoundation.Python.3.11_3.11.2544.0_x64__qbz5n2kfra8p0\\Lib\\inspect.py:3184\u001b[39m, in \u001b[36mSignature._bind\u001b[39m\u001b[34m(self, args, kwargs, partial)\u001b[39m\n\u001b[32m   3182\u001b[39m         arguments[kwargs_param.name] = kwargs\n\u001b[32m   3183\u001b[39m     \u001b[38;5;28;01melse\u001b[39;00m:\n\u001b[32m-> \u001b[39m\u001b[32m3184\u001b[39m         \u001b[38;5;28;01mraise\u001b[39;00m \u001b[38;5;167;01mTypeError\u001b[39;00m(\n\u001b[32m   3185\u001b[39m             \u001b[33m'\u001b[39m\u001b[33mgot an unexpected keyword argument \u001b[39m\u001b[38;5;132;01m{arg!r}\u001b[39;00m\u001b[33m'\u001b[39m.format(\n\u001b[32m   3186\u001b[39m                 arg=\u001b[38;5;28mnext\u001b[39m(\u001b[38;5;28miter\u001b[39m(kwargs))))\n\u001b[32m   3188\u001b[39m \u001b[38;5;28;01mreturn\u001b[39;00m \u001b[38;5;28mself\u001b[39m._bound_arguments_cls(\u001b[38;5;28mself\u001b[39m, arguments)\n",
      "\u001b[31mTypeError\u001b[39m: got an unexpected keyword argument 'squared'"
     ]
    }
   ],
   "source": [
    "results = {}\n",
    "# Mean baseline\n",
    "mean_model = MeanBaseline().fit(y_train)\n",
    "y_pred_mean = mean_model.predict(X_test)\n",
    "results['mean_baseline'] = nrmse(y_test, y_pred_mean)\n",
    "# Last value baseline\n",
    "last_model = LastValueBaseline().fit(y_train)\n",
    "y_pred_last = last_model.predict(X_test)\n",
    "results['last_value_baseline'] = nrmse(y_test, y_pred_last)\n",
    "# Linear regression baseline\n",
    "lin_model = LinearRegressionBaseline().fit(X_train, y_train)\n",
    "y_pred_lin = lin_model.predict(X_test)\n",
    "results['linear_regression'] = nrmse(y_test, y_pred_lin)\n",
    "results"
   ]
  },
  {
   "cell_type": "markdown",
   "metadata": {},
   "source": [
    "## Tree-Based Models (XGBoost, LightGBM)"
   ]
  },
  {
   "cell_type": "code",
   "execution_count": null,
   "metadata": {},
   "outputs": [],
   "source": [
    "# These require optional dependencies; gracefully skip if unavailable.\n",
    "try:\n",
    "    xgb_model = train_xgboost(X_train, y_train)\n",
    "    y_pred_xgb = xgb_model.predict(X_test)\n",
    "    results['xgboost'] = nrmse(y_test, y_pred_xgb)\n",
    "except Exception as e:\n",
    "    results['xgboost'] = f'skipped: {e}'\n",
    "\n",
    "try:\n",
    "    lgb_model = train_lightgbm(X_train, y_train)\n",
    "    y_pred_lgb = lgb_model.predict(X_test)\n",
    "    results['lightgbm'] = nrmse(y_test, y_pred_lgb)\n",
    "except Exception as e:\n",
    "    results['lightgbm'] = f'skipped: {e}'\n",
    "\n",
    "results"
   ]
  },
  {
   "cell_type": "markdown",
   "metadata": {},
   "source": [
    "## LSTM (Deep Learning)"
   ]
  },
  {
   "cell_type": "code",
   "execution_count": null,
   "metadata": {},
   "outputs": [],
   "source": [
    "# LSTM expects 3D input: (samples, timesteps, features).\n",
    "# We use a trivial timestep dimension of 1 for demonstration.\n",
    "try:\n",
    "    X_train_lstm = np.expand_dims(X_train, axis=1)\n",
    "    X_test_lstm = np.expand_dims(X_test, axis=1)\n",
    "    lstm_model = train_lstm(X_train_lstm, y_train)\n",
    "    y_pred_lstm = lstm_model.predict(X_test_lstm, verbose=0).ravel()\n",
    "    results['lstm'] = nrmse(y_test, y_pred_lstm)\n",
    "except Exception as e:\n",
    "    results['lstm'] = f'skipped: {e}'\n",
    "\n",
    "results"
   ]
  }
 ],
 "metadata": {
  "kernelspec": {
   "display_name": "venv",
   "language": "python",
   "name": "python3"
  },
  "language_info": {
   "codemirror_mode": {
    "name": "ipython",
    "version": 3
   },
   "file_extension": ".py",
   "mimetype": "text/x-python",
   "name": "python",
   "nbconvert_exporter": "python",
   "pygments_lexer": "ipython3",
   "version": "3.11.9"
  }
 },
 "nbformat": 4,
 "nbformat_minor": 2
}

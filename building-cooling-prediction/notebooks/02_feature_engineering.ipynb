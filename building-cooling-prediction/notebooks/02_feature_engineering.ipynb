{
 "cells": [
  {
   "cell_type": "markdown",
   "metadata": {},
   "source": [
    "# Feature Engineering"
   ]
  },
  {
   "cell_type": "markdown",
   "metadata": {},
   "source": [
    "## External Data Integration"
   ]
  },
  {
   "cell_type": "markdown",
   "metadata": {},
   "source": [
    "### Data Source\n",
    "\n",
    "Historical weather data was sourced from a fictional provider, \"Global Weather Services (GWS)\". The data is provided in CSV format and includes daily weather information for Hong Kong.\n",
    "\n",
    "### Data Files\n",
    "\n",
    "- `hk_weather_2023.csv`: Daily weather data for Hong Kong for the year 2023.\n",
    "- `hk_weather_2024_jan.csv`: Daily weather data for Hong Kong for January 2024.\n",
    "\n",
    "### Features\n",
    "\n",
    "The weather dataset includes the following columns:\n",
    "\n",
    "- `date`: The date of the weather observation (YYYY-MM-DD).\n",
    "- `temperature_celsius`: The average daily temperature in Celsius.\n",
    "- `humidity_percent`: The average daily humidity in percent.\n",
    "- `wind_speed_kmh`: The average daily wind speed in kilometers per hour."
   ]
  },
  {
   "cell_type": "markdown",
   "metadata": {},
   "source": [
    "## Time-Based Features"
   ]
  },
  {
   "cell_type": "markdown",
   "metadata": {},
   "source": [
    "We create several time-based features from the timestamp column, which can help the model capture cyclical patterns."
   ]
  },
  {
   "cell_type": "code",
   "execution_count": null,
   "metadata": {},
   "outputs": [],
   "source": [
    "import pandas as pd\n",
    "from src.feature_engineering.time_features import create_time_features\n",
    "\n",
    "# Create a sample dataframe\n",
    "df = pd.DataFrame({'timestamp': pd.to_datetime(['2023-01-01 10:00', '2023-01-02 12:00']])})\n",
    "\n",
    "# Create time features\n",
    "df_with_features = create_time_features(df.copy(), 'timestamp')\n",
    "df_with_features.head()"
   ]
  },
  {
   "cell_type": "markdown",
   "metadata": {},
   "source": [
    "## Lag Features"
   ]
  },
  {
   "cell_type": "markdown",
   "metadata": {},
   "source": [
    "Lag features and rolling window statistics are crucial for time series forecasting. We create these features for some of the key numerical columns."
   ]
  },
  {
   "cell_type": "code",
   "execution_count": null,
   "metadata": {},
   "outputs": [],
   "source": [
    "import numpy as np\n",
    "from src.feature_engineering.lag_features import create_lag_features\n",
    "\n",
    "# Create a sample dataframe\n",
    "df = pd.DataFrame({'A': np.arange(10), 'B': np.arange(10, 20)})\n",
    "\n",
    "# Create lag features\n",
    "df_with_lag_features = create_lag_features(df.copy(), cols_to_lag=['A', 'B'], window_sizes=[1, 3])\n",
    "df_with_lag_features.head()"
   ]
  },
  {
   "cell_type": "markdown",
   "metadata": {},
   "source": [
    "## Weather Features"
   ]
  },
  {
   "cell_type": "markdown",
   "metadata": {},
   "source": [
    "We can create interaction features between the weather data and time-based features to capture more complex relationships."
   ]
  },
  {
   "cell_type": "code",
   "execution_count": null,
   "metadata": {},
   "outputs": [],
   "source": [
    "from src.feature_engineering.weather_features import create_weather_features\n",
    "\n",
    "# Create a sample dataframe\n",
    "df = pd.DataFrame({'temperature_celsius': [25, 26], 'humidity_percent': [80, 82], 'hour': [10, 11]})\n",
    "\n",
    "# Create weather features\n",
    "df_with_weather_features = create_weather_features(df.copy())\n",
    "df_with_weather_features.head()"
   ]
  },
  {
   "cell_type": "markdown",
   "metadata": {},
   "source": [
    "## Technical Features"
   ]
  },
  {
   "cell_type": "markdown",
   "metadata": {},
   "source": [
    "Domain-specific features can be engineered to provide more insights to the model. Here, we calculate the temperature difference (delta T) for each chiller."
   ]
  },
  {
   "cell_type": "code",
   "execution_count": null,
   "metadata": {},
   "outputs": [],
   "source": [
    "from src.feature_engineering.technical_features import create_technical_features\n",
    "\n",
    "# Create a sample dataframe\n",
    "df = pd.DataFrame({'CHR-01-CHWSWT': [10, 11], 'CHR-01-CHWRWT': [15, 16]})\n",
    "\n",
    "# Create technical features\n",
    "df_with_technical_features = create_technical_features(df.copy())\n",
    "df_with_technical_features.head()"
   ]
  }
 ],
 "metadata": {
  "kernelspec": {
   "display_name": "Python 3",
   "language": "python",
   "name": "python3"
  },
  "language_info": {
   "name": "python",
   "version": "3.11.9"
  }
 },
 "nbformat": 4,
 "nbformat_minor": 4
}
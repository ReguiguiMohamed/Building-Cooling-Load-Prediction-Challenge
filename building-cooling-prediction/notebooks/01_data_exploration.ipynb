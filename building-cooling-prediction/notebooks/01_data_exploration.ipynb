{
 "cells": [
  {
   "cell_type": "markdown",
   "metadata": {},
   "source": [
    "# 1. Data Exploration"
   ]
  },
  {
   "cell_type": "code",
   "execution_count": 1,
   "metadata": {},
   "outputs": [],
   "source": [
    "import sys\n",
    "sys.path.append('../src')\n",
    "\n",
    "import pandas as pd\n",
    "from data_processing.load_data import load_csv_data\n",
    "import yaml"
   ]
  },
  {
   "cell_type": "code",
   "execution_count": 2,
   "metadata": {},
   "outputs": [],
   "source": [
    "with open('../config.yaml', 'r') as f:\n",
    "    config = yaml.safe_load(f)"
   ]
  },
  {
   "cell_type": "code",
   "execution_count": 3,
   "metadata": {},
   "outputs": [
    {
     "name": "stdout",
     "output_type": "stream",
     "text": [
      "Building_X.csv not found. Please add it to the data/raw directory.\n"
     ]
    }
   ],
   "source": [
    "try:\n",
    "    building_x_df = load_csv_data(config['data']['raw']['building_x'])\n",
    "    print(\"Building_X.csv loaded successfully.\")\n",
    "    display(building_x_df.head())\n",
    "except FileNotFoundError:\n",
    "    print(\"Building_X.csv not found. Please add it to the data/raw directory.\")"
   ]
  },
  {
   "cell_type": "code",
   "execution_count": 4,
   "metadata": {},
   "outputs": [
    {
     "name": "stdout",
     "output_type": "stream",
     "text": [
      "test.csv not found. Please add it to the data/raw directory.\n"
     ]
    }
   ],
   "source": [
    "try:\n",
    "    test_df = load_csv_data(config['data']['raw']['test'])\n",
    "    print(\"test.csv loaded successfully.\")\n",
    "    display(test_df.head())\n",
    "except FileNotFoundError:\n",
    "    print(\"test.csv not found. Please add it to the data/raw directory.\")"
   ]
  }
 ],
 "metadata": {
  "kernelspec": {
   "display_name": "base",
   "language": "python",
   "name": "python3"
  },
  "language_info": {
   "codemirror_mode": {
    "name": "ipython",
    "version": 3
   },
   "file_extension": ".py",
   "mimetype": "text/x-python",
   "name": "python",
   "nbconvert_exporter": "python",
   "pygments_lexer": "ipython3",
   "version": "3.12.4"
  }
 },
 "nbformat": 4,
 "nbformat_minor": 4
}

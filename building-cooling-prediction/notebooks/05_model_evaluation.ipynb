{
 "cells": [
  {
   "cell_type": "markdown",
   "metadata": {},
   "source": [
    "# Model Evaluation\n",
    "Evaluate models using NRMSE with reproducible splits and generate plots."
   ]
  },
  {
   "cell_type": "code",
   "execution_count": null,
   "metadata": {},
   "outputs": [],
   "source": [
    "# Setup\n",
    "import os, sys\n",
    "import numpy as np\n",
    "import pandas as pd\n",
    "import joblib\n",
    "sys.path.append('..')\n",
    "from src.evaluation.metrics import nrmse\n",
    "from src.evaluation.validation import simple_train_test_split, k_fold_split\n",
    "from src.evaluation.visualization import plot_predictions, plot_residuals\n",
    "data_path = '../data/processed/features_train.csv'\n",
    "assert os.path.exists(data_path), f'Missing {data_path}. Run feature engineering first.'"
   ]
  },
  {
   "cell_type": "markdown",
   "metadata": {},
   "source": [
    "## Load Data and Create Split"
   ]
  },
  {
   "cell_type": "code",
   "execution_count": null,
   "metadata": {},
   "outputs": [],
   "source": [
    "df = pd.read_csv(data_path)\n",
    "target_col = 'Total_Cooling_Load'\n",
    "num_df = df.select_dtypes(include=[np.number])\n",
    "X = num_df.drop(columns=[target_col]).fillna(num_df.median(numeric_only=True))\n",
    "y = num_df[target_col].values\n",
    "X_train, X_test, y_train, y_test = simple_train_test_split(X.values, y, test_size=0.2, random_state=42)\n",
    "X_train.shape, X_test.shape"
   ]
  },
  {
   "cell_type": "markdown",
   "metadata": {},
   "source": [
    "## Load Trained Models (if available)"
   ]
  },
  {
   "cell_type": "code",
   "execution_count": null,
   "metadata": {},
   "outputs": [],
   "source": [
    "models = {}\n",
    "# XGBoost\n",
    "xgb_path = '../models/trained_models/xgboost_model.pkl'\n",
    "if os.path.exists(xgb_path):\n",
    "    models['xgboost'] = joblib.load(xgb_path)\n",
    "# LightGBM\n",
    "lgb_path = '../models/trained_models/lightgbm_model.pkl'\n",
    "if os.path.exists(lgb_path):\n",
    "    models['lightgbm'] = joblib.load(lgb_path)\n",
    "# LSTM\n",
    "lstm_path = '../models/trained_models/lstm_model.h5'\n",
    "try:\n",
    "    if os.path.exists(lstm_path):\n",
    "        from tensorflow.keras.models import load_model\n",
    "        models['lstm'] = load_model(lstm_path)\n",
    "except Exception as e:\n",
    "    print('Skipping LSTM load:', e)\n",
    "sorted(list(models.keys()))"
   ]
  },
  {
   "cell_type": "markdown",
   "metadata": {},
   "source": [
    "## Evaluate Models (NRMSE)"
   ]
  },
  {
   "cell_type": "code",
   "execution_count": null,
   "metadata": {},
   "outputs": [],
   "source": [
    "results = {}\n",
    "for name, model in models.items():\n",
    "    if name == 'lstm':\n",
    "        X_test_in = np.expand_dims(X_test, axis=1)\n",
    "        y_pred = model.predict(X_test_in, verbose=0).ravel()\n",
    "    else:\n",
    "        y_pred = model.predict(X_test)\n",
    "    results[name] = float(nrmse(y_test, y_pred))\n",
    "results"
   ]
  },
  {
   "cell_type": "markdown",
   "metadata": {},
   "source": [
    "## Visualization"
   ]
  },
  {
   "cell_type": "code",
   "execution_count": null,
   "metadata": {},
   "outputs": [],
   "source": [
    "# Produce and save plots for available models\n",
    "for name, model in models.items():\n",
    "    if name == 'lstm':\n",
    "        X_in = np.expand_dims(X_test, axis=1)\n",
    "        y_pred = model.predict(X_in, verbose=0).ravel()\n",
    "    else:\n",
    "        y_pred = model.predict(X_test)\n",
    "    plot_predictions(y_test, y_pred, save_path=f'../reports/figures/{name}_predictions.png')\n",
    "    plot_residuals(y_test, y_pred, save_path=f'../reports/figures/{name}_residuals.png')\n",
    "'Saved plots to reports/figures'"
   ]
  },
  {
   "cell_type": "markdown",
   "metadata": {},
   "source": [
    "## Write Summary to reports/model_performance.md"
   ]
  },
  {
   "cell_type": "code",
   "execution_count": null,
   "metadata": {},
   "outputs": [],
   "source": [
    "summary_path = '../reports/model_performance.md'\n",
    "lines = ['# Model Performance (Evaluation)', '', '| Model | NRMSE |', '|---|---|']\n",
    "for k, v in sorted(results.items()):\n",
    "    lines.append(f'| {k} | {v:.5f} |')\n",
    "content = '\\n'.join(lines)\n",
    "with open(summary_path, 'w') as f: f.write(content)\n",
    "summary_path"
   ]
  }
 ],
 "metadata": {
  "kernelspec": {
   "display_name": "venv",
   "language": "python",
   "name": "python3"
  },
  "language_info": {
   "name": "python",
   "version": "3.11.9"
  }
 },
 "nbformat": 4,
 "nbformat_minor": 2
}

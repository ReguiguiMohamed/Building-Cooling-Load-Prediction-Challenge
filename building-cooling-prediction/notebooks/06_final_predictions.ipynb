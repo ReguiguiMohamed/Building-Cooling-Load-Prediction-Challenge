{
 "cells": [
  {
   "cell_type": "markdown",
   "metadata": {},
   "source": [
    "# Final Predictions\n",
    "Generate predictions on the test set using the best-performing model."
   ]
  },
  {
   "cell_type": "code",
   "execution_count": null,
   "metadata": {},
   "outputs": [],
   "source": [
    "import os, sys\n",
    "import joblib\n",
    "import pandas as pd\n",
    "sys.path.append('..')\n",
    "from src.utils.helpers import create_features\n",
    "from src.models.ensemble import load_ensemble\n",
    "from src.data_processing.load_data import save_csv_data\n",
    "from src.evaluation.metrics import nrmse\n",
    "config_path = '../config.yaml'\n",
    "assert os.path.exists(config_path), 'Missing config.yaml'\n",
    "config = __import__('yaml').safe_load(open(config_path))\n",
    "test_path = config['data']['raw']['test']\n",
    "features_path = config['data']['processed']['features_test']\n",
    "model_path = os.path.join(config['models']['trained_models'], 'best_model.pkl')\n",
    "ensemble_path = os.path.join(config['models']['trained_models'], 'ensemble_model.pkl')\n"
   ]
  },
  {
   "cell_type": "markdown",
   "metadata": {},
   "source": [
    "## Feature Engineering on Test Data"
   ]
  },
  {
   "cell_type": "code",
   "execution_count": null,
   "metadata": {},
   "outputs": [],
   "source": [
    "test_features = create_features(test_path, config['feature_engineering']['timestamp_col'],\n",
    "                             config['feature_engineering']['cols_to_lag'],\n",
    "                             config['feature_engineering']['window_sizes'])\n",
    "save_csv_data(test_features, features_path)\n",
    "test_features.head()"
   ]
  },
  {
   "cell_type": "markdown",
   "metadata": {},
   "source": [
    "## Load Model and Predict"
   ]
  },
  {
   "cell_type": "code",
   "execution_count": null,
   "metadata": {},
   "outputs": [],
   "source": [
    "model = joblib.load(model_path) if os.path.exists(model_path) else None\n",
    "if model is None:\n",
    "    raise FileNotFoundError('Trained model not found')\n",
    "preds = model.predict(test_features.select_dtypes(include=['number']))\n",
    "submission = pd.DataFrame({'prediction': preds})\n",
    "save_csv_data(submission, os.path.join(config['data']['submissions'], 'submission_final.csv'))\n",
    "submission.head()"
   ]
  },
  {
   "cell_type": "markdown",
   "metadata": {},
   "source": [
    "## Ensemble Prediction (Optional)"
   ]
  },
  {
   "cell_type": "code",
   "execution_count": null,
   "metadata": {},
   "outputs": [],
   "source": [
    "if os.path.exists(ensemble_path):\n",
    "    ensemble = load_ensemble(ensemble_path)\n",
    "    ensemble_preds = ensemble.predict(test_features.select_dtypes(include=['number']))\n",
    "    ensemble_df = pd.DataFrame({'prediction': ensemble_preds})\n",
    "    save_csv_data(ensemble_df, os.path.join(config['data']['submissions'], 'submission_ensemble.csv'))\n",
    "    ensemble_df.head()\n",
    "else:\n",
    "    print('No ensemble model found.')"
   ]
  }
 ],
 "metadata": {
  "kernelspec": {
   "display_name": "Python 3",
   "language": "python",
   "name": "python3"
  },
  "language_info": {
   "name": "python",
   "version": "3.11"
  }
 },
 "nbformat": 4,
 "nbformat_minor": 2
}


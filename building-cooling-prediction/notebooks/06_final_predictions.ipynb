{
 "cells": [
  {
   "cell_type": "markdown",
   "metadata": {},
   "source": [
    "# Final Predictions and Submission\n",
    "\n",
    "This notebook generates predictions on the test set using the best-performing model. The process involves loading the test data, applying the same feature engineering steps as for the training data, loading the trained model, generating predictions, and saving the results to a submission file."
   ]
  },
  {
   "cell_type": "markdown",
   "metadata": {},
   "source": [
    "## 1. Load Data and Configuration"
   ]
  },
  {
   "cell_type": "code",
   "execution_count": 1,
   "metadata": {},
   "outputs": [],
   "source": [
    "from pathlib import Path\n",
    "import os, sys, yaml, joblib\n",
    "import pandas as pd\n",
    "import matplotlib.pyplot as plt\n",
    "\n",
    "CWD = Path.cwd()\n",
    "if (CWD / 'config.yaml').exists() and (CWD / 'src').exists():\n",
    "    PROJECT_ROOT = CWD\n",
    "elif (CWD.name == 'notebooks') and (CWD.parent / 'config.yaml').exists():\n",
    "    PROJECT_ROOT = CWD.parent\n",
    "    os.chdir(PROJECT_ROOT)\n",
    "elif (CWD / 'building-cooling-prediction' / 'config.yaml').exists():\n",
    "    PROJECT_ROOT = CWD / 'building-cooling-prediction'\n",
    "else:\n",
    "    raise FileNotFoundError('Could not locate project root with config.yaml')\n",
    "\n",
    "sys.path.insert(0, str(PROJECT_ROOT))\n",
    "with open(PROJECT_ROOT / 'config.yaml', 'r') as f:\n",
    "    config = yaml.safe_load(f)\n",
    "\n",
    "test_path = config['data']['raw']['test']\n",
    "features_path = config['data']['processed']['features_test']\n",
    "model_path = str(PROJECT_ROOT / config['models']['trained_models'] / 'lightgbm_model.pkl')\n",
    "submission_path = str(PROJECT_ROOT / config['data']['submissions'] / 'submission_final.csv')\n",
    "train_features_path = str(PROJECT_ROOT / config['data']['processed']['features_train'])"
   ]
  },
  {
   "cell_type": "markdown",
   "metadata": {},
   "source": [
    "## 2. Feature Engineering on Test Data\n",
    "\n",
    "Apply the same feature engineering steps to the test data as were applied to the training data."
   ]
  },
  {
   "cell_type": "code",
   "execution_count": 2,
   "metadata": {},
   "outputs": [
    {
     "name": "stdout",
     "output_type": "stream",
     "text": [
      "Test features created and saved to: C:\\Users\\ahmed\\Downloads\\Building-Cooling-Load-Prediction-Challenge\\building-cooling-prediction\\data\\processed\\features_test.csv shape: (720, 20)\n"
     ]
    },
    {
     "data": {
      "text/html": [
       "<div>\n",
       "<style scoped>\n",
       "    .dataframe tbody tr th:only-of-type {\n",
       "        vertical-align: middle;\n",
       "    }\n",
       "\n",
       "    .dataframe tbody tr th {\n",
       "        vertical-align: top;\n",
       "    }\n",
       "\n",
       "    .dataframe thead th {\n",
       "        text-align: right;\n",
       "    }\n",
       "</style>\n",
       "<table border=\"1\" class=\"dataframe\">\n",
       "  <thead>\n",
       "    <tr style=\"text-align: right;\">\n",
       "      <th></th>\n",
       "      <th>key_0</th>\n",
       "      <th>prediction_time</th>\n",
       "      <th>predicted_load</th>\n",
       "      <th>hour</th>\n",
       "      <th>dayofweek</th>\n",
       "      <th>dayofyear</th>\n",
       "      <th>month</th>\n",
       "      <th>year</th>\n",
       "      <th>weekofyear</th>\n",
       "      <th>temperature_celsius</th>\n",
       "      <th>humidity_percent</th>\n",
       "      <th>wind_speed_kmh</th>\n",
       "      <th>temperature_celsius_lag_1</th>\n",
       "      <th>temperature_celsius_rolling_mean_1</th>\n",
       "      <th>temperature_celsius_lag_3</th>\n",
       "      <th>temperature_celsius_rolling_mean_3</th>\n",
       "      <th>temperature_celsius_lag_7</th>\n",
       "      <th>temperature_celsius_rolling_mean_7</th>\n",
       "      <th>temp_x_hour</th>\n",
       "      <th>humidity_x_hour</th>\n",
       "    </tr>\n",
       "  </thead>\n",
       "  <tbody>\n",
       "    <tr>\n",
       "      <th>0</th>\n",
       "      <td>2024-01-01</td>\n",
       "      <td>2024-01-01 00:00:00</td>\n",
       "      <td>NaN</td>\n",
       "      <td>0</td>\n",
       "      <td>0</td>\n",
       "      <td>1</td>\n",
       "      <td>1</td>\n",
       "      <td>2024</td>\n",
       "      <td>1</td>\n",
       "      <td>22.96124</td>\n",
       "      <td>76.878039</td>\n",
       "      <td>8.11717</td>\n",
       "      <td>NaN</td>\n",
       "      <td>NaN</td>\n",
       "      <td>NaN</td>\n",
       "      <td>NaN</td>\n",
       "      <td>NaN</td>\n",
       "      <td>NaN</td>\n",
       "      <td>0.00000</td>\n",
       "      <td>0.000000</td>\n",
       "    </tr>\n",
       "    <tr>\n",
       "      <th>1</th>\n",
       "      <td>2024-01-01</td>\n",
       "      <td>2024-01-01 01:00:00</td>\n",
       "      <td>NaN</td>\n",
       "      <td>1</td>\n",
       "      <td>0</td>\n",
       "      <td>1</td>\n",
       "      <td>1</td>\n",
       "      <td>2024</td>\n",
       "      <td>1</td>\n",
       "      <td>22.96124</td>\n",
       "      <td>76.878039</td>\n",
       "      <td>8.11717</td>\n",
       "      <td>22.96124</td>\n",
       "      <td>22.96124</td>\n",
       "      <td>NaN</td>\n",
       "      <td>NaN</td>\n",
       "      <td>NaN</td>\n",
       "      <td>NaN</td>\n",
       "      <td>22.96124</td>\n",
       "      <td>76.878039</td>\n",
       "    </tr>\n",
       "    <tr>\n",
       "      <th>2</th>\n",
       "      <td>2024-01-01</td>\n",
       "      <td>2024-01-01 02:00:00</td>\n",
       "      <td>NaN</td>\n",
       "      <td>2</td>\n",
       "      <td>0</td>\n",
       "      <td>1</td>\n",
       "      <td>1</td>\n",
       "      <td>2024</td>\n",
       "      <td>1</td>\n",
       "      <td>22.96124</td>\n",
       "      <td>76.878039</td>\n",
       "      <td>8.11717</td>\n",
       "      <td>22.96124</td>\n",
       "      <td>22.96124</td>\n",
       "      <td>NaN</td>\n",
       "      <td>NaN</td>\n",
       "      <td>NaN</td>\n",
       "      <td>NaN</td>\n",
       "      <td>45.92248</td>\n",
       "      <td>153.756078</td>\n",
       "    </tr>\n",
       "    <tr>\n",
       "      <th>3</th>\n",
       "      <td>2024-01-01</td>\n",
       "      <td>2024-01-01 03:00:00</td>\n",
       "      <td>NaN</td>\n",
       "      <td>3</td>\n",
       "      <td>0</td>\n",
       "      <td>1</td>\n",
       "      <td>1</td>\n",
       "      <td>2024</td>\n",
       "      <td>1</td>\n",
       "      <td>22.96124</td>\n",
       "      <td>76.878039</td>\n",
       "      <td>8.11717</td>\n",
       "      <td>22.96124</td>\n",
       "      <td>22.96124</td>\n",
       "      <td>22.96124</td>\n",
       "      <td>22.96124</td>\n",
       "      <td>NaN</td>\n",
       "      <td>NaN</td>\n",
       "      <td>68.88372</td>\n",
       "      <td>230.634117</td>\n",
       "    </tr>\n",
       "    <tr>\n",
       "      <th>4</th>\n",
       "      <td>2024-01-01</td>\n",
       "      <td>2024-01-01 04:00:00</td>\n",
       "      <td>NaN</td>\n",
       "      <td>4</td>\n",
       "      <td>0</td>\n",
       "      <td>1</td>\n",
       "      <td>1</td>\n",
       "      <td>2024</td>\n",
       "      <td>1</td>\n",
       "      <td>22.96124</td>\n",
       "      <td>76.878039</td>\n",
       "      <td>8.11717</td>\n",
       "      <td>22.96124</td>\n",
       "      <td>22.96124</td>\n",
       "      <td>22.96124</td>\n",
       "      <td>22.96124</td>\n",
       "      <td>NaN</td>\n",
       "      <td>NaN</td>\n",
       "      <td>91.84496</td>\n",
       "      <td>307.512155</td>\n",
       "    </tr>\n",
       "  </tbody>\n",
       "</table>\n",
       "</div>"
      ],
      "text/plain": [
       "        key_0     prediction_time  predicted_load  hour  dayofweek  dayofyear  \\\n",
       "0  2024-01-01 2024-01-01 00:00:00             NaN     0          0          1   \n",
       "1  2024-01-01 2024-01-01 01:00:00             NaN     1          0          1   \n",
       "2  2024-01-01 2024-01-01 02:00:00             NaN     2          0          1   \n",
       "3  2024-01-01 2024-01-01 03:00:00             NaN     3          0          1   \n",
       "4  2024-01-01 2024-01-01 04:00:00             NaN     4          0          1   \n",
       "\n",
       "   month  year  weekofyear  temperature_celsius  humidity_percent  \\\n",
       "0      1  2024           1             22.96124         76.878039   \n",
       "1      1  2024           1             22.96124         76.878039   \n",
       "2      1  2024           1             22.96124         76.878039   \n",
       "3      1  2024           1             22.96124         76.878039   \n",
       "4      1  2024           1             22.96124         76.878039   \n",
       "\n",
       "   wind_speed_kmh  temperature_celsius_lag_1  \\\n",
       "0         8.11717                        NaN   \n",
       "1         8.11717                   22.96124   \n",
       "2         8.11717                   22.96124   \n",
       "3         8.11717                   22.96124   \n",
       "4         8.11717                   22.96124   \n",
       "\n",
       "   temperature_celsius_rolling_mean_1  temperature_celsius_lag_3  \\\n",
       "0                                 NaN                        NaN   \n",
       "1                            22.96124                        NaN   \n",
       "2                            22.96124                        NaN   \n",
       "3                            22.96124                   22.96124   \n",
       "4                            22.96124                   22.96124   \n",
       "\n",
       "   temperature_celsius_rolling_mean_3  temperature_celsius_lag_7  \\\n",
       "0                                 NaN                        NaN   \n",
       "1                                 NaN                        NaN   \n",
       "2                                 NaN                        NaN   \n",
       "3                            22.96124                        NaN   \n",
       "4                            22.96124                        NaN   \n",
       "\n",
       "   temperature_celsius_rolling_mean_7  temp_x_hour  humidity_x_hour  \n",
       "0                                 NaN      0.00000         0.000000  \n",
       "1                                 NaN     22.96124        76.878039  \n",
       "2                                 NaN     45.92248       153.756078  \n",
       "3                                 NaN     68.88372       230.634117  \n",
       "4                                 NaN     91.84496       307.512155  "
      ]
     },
     "execution_count": 2,
     "metadata": {},
     "output_type": "execute_result"
    }
   ],
   "source": [
    "from src.utils.helpers import create_test_features, save_test_features\n",
    "test_features = create_test_features()\n",
    "saved_path = save_test_features(test_features)\n",
    "print('Test features created and saved to:', saved_path, 'shape:', test_features.shape)\n",
    "test_features.head()"
   ]
  },
  {
   "cell_type": "markdown",
   "metadata": {},
   "source": [
    "## 3. Load Best Model and Generate Predictions\n",
    "\n",
    "Load the best-performing model (LightGBM) and use it to generate predictions on the test features."
   ]
  },
  {
   "cell_type": "code",
   "execution_count": 3,
   "metadata": {},
   "outputs": [
    {
     "name": "stdout",
     "output_type": "stream",
     "text": [
      "Model loaded successfully.\n"
     ]
    },
    {
     "ename": "LightGBMError",
     "evalue": "The number of features in data (42) is not the same as it was in training data (41).\nYou can set ``predict_disable_shape_check=true`` to discard this error, but please be aware what you are doing.",
     "output_type": "error",
     "traceback": [
      "\u001b[31m---------------------------------------------------------------------------\u001b[39m",
      "\u001b[31mLightGBMError\u001b[39m                             Traceback (most recent call last)",
      "\u001b[36mCell\u001b[39m\u001b[36m \u001b[39m\u001b[32mIn[3]\u001b[39m\u001b[32m, line 16\u001b[39m\n\u001b[32m     13\u001b[39m         X[col] = \u001b[32m0\u001b[39m\n\u001b[32m     14\u001b[39m X = X[train_numeric_cols]\n\u001b[32m---> \u001b[39m\u001b[32m16\u001b[39m predictions = \u001b[43mmodel\u001b[49m\u001b[43m.\u001b[49m\u001b[43mpredict\u001b[49m\u001b[43m(\u001b[49m\u001b[43mX\u001b[49m\u001b[43m)\u001b[49m\n\u001b[32m     17\u001b[39m \u001b[38;5;28mprint\u001b[39m(\u001b[33m\"\u001b[39m\u001b[33mPredictions generated successfully.\u001b[39m\u001b[33m\"\u001b[39m)\n",
      "\u001b[36mFile \u001b[39m\u001b[32mc:\\Users\\ahmed\\Downloads\\Building-Cooling-Load-Prediction-Challenge\\venv\\Lib\\site-packages\\lightgbm\\sklearn.py:1144\u001b[39m, in \u001b[36mLGBMModel.predict\u001b[39m\u001b[34m(self, X, raw_score, start_iteration, num_iteration, pred_leaf, pred_contrib, validate_features, **kwargs)\u001b[39m\n\u001b[32m   1141\u001b[39m predict_params = _choose_param_value(\u001b[33m\"\u001b[39m\u001b[33mnum_threads\u001b[39m\u001b[33m\"\u001b[39m, predict_params, \u001b[38;5;28mself\u001b[39m.n_jobs)\n\u001b[32m   1142\u001b[39m predict_params[\u001b[33m\"\u001b[39m\u001b[33mnum_threads\u001b[39m\u001b[33m\"\u001b[39m] = \u001b[38;5;28mself\u001b[39m._process_n_jobs(predict_params[\u001b[33m\"\u001b[39m\u001b[33mnum_threads\u001b[39m\u001b[33m\"\u001b[39m])\n\u001b[32m-> \u001b[39m\u001b[32m1144\u001b[39m \u001b[38;5;28;01mreturn\u001b[39;00m \u001b[38;5;28;43mself\u001b[39;49m\u001b[43m.\u001b[49m\u001b[43m_Booster\u001b[49m\u001b[43m.\u001b[49m\u001b[43mpredict\u001b[49m\u001b[43m(\u001b[49m\u001b[43m  \u001b[49m\u001b[38;5;66;43;03m# type: ignore[union-attr]\u001b[39;49;00m\n\u001b[32m   1145\u001b[39m \u001b[43m    \u001b[49m\u001b[43mX\u001b[49m\u001b[43m,\u001b[49m\n\u001b[32m   1146\u001b[39m \u001b[43m    \u001b[49m\u001b[43mraw_score\u001b[49m\u001b[43m=\u001b[49m\u001b[43mraw_score\u001b[49m\u001b[43m,\u001b[49m\n\u001b[32m   1147\u001b[39m \u001b[43m    \u001b[49m\u001b[43mstart_iteration\u001b[49m\u001b[43m=\u001b[49m\u001b[43mstart_iteration\u001b[49m\u001b[43m,\u001b[49m\n\u001b[32m   1148\u001b[39m \u001b[43m    \u001b[49m\u001b[43mnum_iteration\u001b[49m\u001b[43m=\u001b[49m\u001b[43mnum_iteration\u001b[49m\u001b[43m,\u001b[49m\n\u001b[32m   1149\u001b[39m \u001b[43m    \u001b[49m\u001b[43mpred_leaf\u001b[49m\u001b[43m=\u001b[49m\u001b[43mpred_leaf\u001b[49m\u001b[43m,\u001b[49m\n\u001b[32m   1150\u001b[39m \u001b[43m    \u001b[49m\u001b[43mpred_contrib\u001b[49m\u001b[43m=\u001b[49m\u001b[43mpred_contrib\u001b[49m\u001b[43m,\u001b[49m\n\u001b[32m   1151\u001b[39m \u001b[43m    \u001b[49m\u001b[43mvalidate_features\u001b[49m\u001b[43m=\u001b[49m\u001b[43mvalidate_features\u001b[49m\u001b[43m,\u001b[49m\n\u001b[32m   1152\u001b[39m \u001b[43m    \u001b[49m\u001b[43m*\u001b[49m\u001b[43m*\u001b[49m\u001b[43mpredict_params\u001b[49m\u001b[43m,\u001b[49m\n\u001b[32m   1153\u001b[39m \u001b[43m\u001b[49m\u001b[43m)\u001b[49m\n",
      "\u001b[36mFile \u001b[39m\u001b[32mc:\\Users\\ahmed\\Downloads\\Building-Cooling-Load-Prediction-Challenge\\venv\\Lib\\site-packages\\lightgbm\\basic.py:4767\u001b[39m, in \u001b[36mBooster.predict\u001b[39m\u001b[34m(self, data, start_iteration, num_iteration, raw_score, pred_leaf, pred_contrib, data_has_header, validate_features, **kwargs)\u001b[39m\n\u001b[32m   4765\u001b[39m     \u001b[38;5;28;01melse\u001b[39;00m:\n\u001b[32m   4766\u001b[39m         num_iteration = -\u001b[32m1\u001b[39m\n\u001b[32m-> \u001b[39m\u001b[32m4767\u001b[39m \u001b[38;5;28;01mreturn\u001b[39;00m \u001b[43mpredictor\u001b[49m\u001b[43m.\u001b[49m\u001b[43mpredict\u001b[49m\u001b[43m(\u001b[49m\n\u001b[32m   4768\u001b[39m \u001b[43m    \u001b[49m\u001b[43mdata\u001b[49m\u001b[43m=\u001b[49m\u001b[43mdata\u001b[49m\u001b[43m,\u001b[49m\n\u001b[32m   4769\u001b[39m \u001b[43m    \u001b[49m\u001b[43mstart_iteration\u001b[49m\u001b[43m=\u001b[49m\u001b[43mstart_iteration\u001b[49m\u001b[43m,\u001b[49m\n\u001b[32m   4770\u001b[39m \u001b[43m    \u001b[49m\u001b[43mnum_iteration\u001b[49m\u001b[43m=\u001b[49m\u001b[43mnum_iteration\u001b[49m\u001b[43m,\u001b[49m\n\u001b[32m   4771\u001b[39m \u001b[43m    \u001b[49m\u001b[43mraw_score\u001b[49m\u001b[43m=\u001b[49m\u001b[43mraw_score\u001b[49m\u001b[43m,\u001b[49m\n\u001b[32m   4772\u001b[39m \u001b[43m    \u001b[49m\u001b[43mpred_leaf\u001b[49m\u001b[43m=\u001b[49m\u001b[43mpred_leaf\u001b[49m\u001b[43m,\u001b[49m\n\u001b[32m   4773\u001b[39m \u001b[43m    \u001b[49m\u001b[43mpred_contrib\u001b[49m\u001b[43m=\u001b[49m\u001b[43mpred_contrib\u001b[49m\u001b[43m,\u001b[49m\n\u001b[32m   4774\u001b[39m \u001b[43m    \u001b[49m\u001b[43mdata_has_header\u001b[49m\u001b[43m=\u001b[49m\u001b[43mdata_has_header\u001b[49m\u001b[43m,\u001b[49m\n\u001b[32m   4775\u001b[39m \u001b[43m    \u001b[49m\u001b[43mvalidate_features\u001b[49m\u001b[43m=\u001b[49m\u001b[43mvalidate_features\u001b[49m\u001b[43m,\u001b[49m\n\u001b[32m   4776\u001b[39m \u001b[43m\u001b[49m\u001b[43m)\u001b[49m\n",
      "\u001b[36mFile \u001b[39m\u001b[32mc:\\Users\\ahmed\\Downloads\\Building-Cooling-Load-Prediction-Challenge\\venv\\Lib\\site-packages\\lightgbm\\basic.py:1204\u001b[39m, in \u001b[36m_InnerPredictor.predict\u001b[39m\u001b[34m(self, data, start_iteration, num_iteration, raw_score, pred_leaf, pred_contrib, data_has_header, validate_features)\u001b[39m\n\u001b[32m   1197\u001b[39m     preds, nrow = \u001b[38;5;28mself\u001b[39m.__pred_for_csc(\n\u001b[32m   1198\u001b[39m         csc=data,\n\u001b[32m   1199\u001b[39m         start_iteration=start_iteration,\n\u001b[32m   1200\u001b[39m         num_iteration=num_iteration,\n\u001b[32m   1201\u001b[39m         predict_type=predict_type,\n\u001b[32m   1202\u001b[39m     )\n\u001b[32m   1203\u001b[39m \u001b[38;5;28;01melif\u001b[39;00m \u001b[38;5;28misinstance\u001b[39m(data, np.ndarray):\n\u001b[32m-> \u001b[39m\u001b[32m1204\u001b[39m     preds, nrow = \u001b[38;5;28;43mself\u001b[39;49m\u001b[43m.\u001b[49m\u001b[43m__pred_for_np2d\u001b[49m\u001b[43m(\u001b[49m\n\u001b[32m   1205\u001b[39m \u001b[43m        \u001b[49m\u001b[43mmat\u001b[49m\u001b[43m=\u001b[49m\u001b[43mdata\u001b[49m\u001b[43m,\u001b[49m\n\u001b[32m   1206\u001b[39m \u001b[43m        \u001b[49m\u001b[43mstart_iteration\u001b[49m\u001b[43m=\u001b[49m\u001b[43mstart_iteration\u001b[49m\u001b[43m,\u001b[49m\n\u001b[32m   1207\u001b[39m \u001b[43m        \u001b[49m\u001b[43mnum_iteration\u001b[49m\u001b[43m=\u001b[49m\u001b[43mnum_iteration\u001b[49m\u001b[43m,\u001b[49m\n\u001b[32m   1208\u001b[39m \u001b[43m        \u001b[49m\u001b[43mpredict_type\u001b[49m\u001b[43m=\u001b[49m\u001b[43mpredict_type\u001b[49m\u001b[43m,\u001b[49m\n\u001b[32m   1209\u001b[39m \u001b[43m    \u001b[49m\u001b[43m)\u001b[49m\n\u001b[32m   1210\u001b[39m \u001b[38;5;28;01melif\u001b[39;00m _is_pyarrow_table(data):\n\u001b[32m   1211\u001b[39m     preds, nrow = \u001b[38;5;28mself\u001b[39m.__pred_for_pyarrow_table(\n\u001b[32m   1212\u001b[39m         table=data,\n\u001b[32m   1213\u001b[39m         start_iteration=start_iteration,\n\u001b[32m   1214\u001b[39m         num_iteration=num_iteration,\n\u001b[32m   1215\u001b[39m         predict_type=predict_type,\n\u001b[32m   1216\u001b[39m     )\n",
      "\u001b[36mFile \u001b[39m\u001b[32mc:\\Users\\ahmed\\Downloads\\Building-Cooling-Load-Prediction-Challenge\\venv\\Lib\\site-packages\\lightgbm\\basic.py:1361\u001b[39m, in \u001b[36m_InnerPredictor.__pred_for_np2d\u001b[39m\u001b[34m(self, mat, start_iteration, num_iteration, predict_type)\u001b[39m\n\u001b[32m   1359\u001b[39m     \u001b[38;5;28;01mreturn\u001b[39;00m preds, nrow\n\u001b[32m   1360\u001b[39m \u001b[38;5;28;01melse\u001b[39;00m:\n\u001b[32m-> \u001b[39m\u001b[32m1361\u001b[39m     \u001b[38;5;28;01mreturn\u001b[39;00m \u001b[38;5;28;43mself\u001b[39;49m\u001b[43m.\u001b[49m\u001b[43m__inner_predict_np2d\u001b[49m\u001b[43m(\u001b[49m\n\u001b[32m   1362\u001b[39m \u001b[43m        \u001b[49m\u001b[43mmat\u001b[49m\u001b[43m=\u001b[49m\u001b[43mmat\u001b[49m\u001b[43m,\u001b[49m\n\u001b[32m   1363\u001b[39m \u001b[43m        \u001b[49m\u001b[43mstart_iteration\u001b[49m\u001b[43m=\u001b[49m\u001b[43mstart_iteration\u001b[49m\u001b[43m,\u001b[49m\n\u001b[32m   1364\u001b[39m \u001b[43m        \u001b[49m\u001b[43mnum_iteration\u001b[49m\u001b[43m=\u001b[49m\u001b[43mnum_iteration\u001b[49m\u001b[43m,\u001b[49m\n\u001b[32m   1365\u001b[39m \u001b[43m        \u001b[49m\u001b[43mpredict_type\u001b[49m\u001b[43m=\u001b[49m\u001b[43mpredict_type\u001b[49m\u001b[43m,\u001b[49m\n\u001b[32m   1366\u001b[39m \u001b[43m        \u001b[49m\u001b[43mpreds\u001b[49m\u001b[43m=\u001b[49m\u001b[38;5;28;43;01mNone\u001b[39;49;00m\u001b[43m,\u001b[49m\n\u001b[32m   1367\u001b[39m \u001b[43m    \u001b[49m\u001b[43m)\u001b[49m\n",
      "\u001b[36mFile \u001b[39m\u001b[32mc:\\Users\\ahmed\\Downloads\\Building-Cooling-Load-Prediction-Challenge\\venv\\Lib\\site-packages\\lightgbm\\basic.py:1307\u001b[39m, in \u001b[36m_InnerPredictor.__inner_predict_np2d\u001b[39m\u001b[34m(self, mat, start_iteration, num_iteration, predict_type, preds)\u001b[39m\n\u001b[32m   1305\u001b[39m     \u001b[38;5;28;01mraise\u001b[39;00m \u001b[38;5;167;01mValueError\u001b[39;00m(\u001b[33m\"\u001b[39m\u001b[33mWrong length of pre-allocated predict array\u001b[39m\u001b[33m\"\u001b[39m)\n\u001b[32m   1306\u001b[39m out_num_preds = ctypes.c_int64(\u001b[32m0\u001b[39m)\n\u001b[32m-> \u001b[39m\u001b[32m1307\u001b[39m \u001b[43m_safe_call\u001b[49m\u001b[43m(\u001b[49m\n\u001b[32m   1308\u001b[39m \u001b[43m    \u001b[49m\u001b[43m_LIB\u001b[49m\u001b[43m.\u001b[49m\u001b[43mLGBM_BoosterPredictForMat\u001b[49m\u001b[43m(\u001b[49m\n\u001b[32m   1309\u001b[39m \u001b[43m        \u001b[49m\u001b[38;5;28;43mself\u001b[39;49m\u001b[43m.\u001b[49m\u001b[43m_handle\u001b[49m\u001b[43m,\u001b[49m\n\u001b[32m   1310\u001b[39m \u001b[43m        \u001b[49m\u001b[43mptr_data\u001b[49m\u001b[43m,\u001b[49m\n\u001b[32m   1311\u001b[39m \u001b[43m        \u001b[49m\u001b[43mctypes\u001b[49m\u001b[43m.\u001b[49m\u001b[43mc_int\u001b[49m\u001b[43m(\u001b[49m\u001b[43mtype_ptr_data\u001b[49m\u001b[43m)\u001b[49m\u001b[43m,\u001b[49m\n\u001b[32m   1312\u001b[39m \u001b[43m        \u001b[49m\u001b[43mctypes\u001b[49m\u001b[43m.\u001b[49m\u001b[43mc_int32\u001b[49m\u001b[43m(\u001b[49m\u001b[43mmat\u001b[49m\u001b[43m.\u001b[49m\u001b[43mshape\u001b[49m\u001b[43m[\u001b[49m\u001b[32;43m0\u001b[39;49m\u001b[43m]\u001b[49m\u001b[43m)\u001b[49m\u001b[43m,\u001b[49m\n\u001b[32m   1313\u001b[39m \u001b[43m        \u001b[49m\u001b[43mctypes\u001b[49m\u001b[43m.\u001b[49m\u001b[43mc_int32\u001b[49m\u001b[43m(\u001b[49m\u001b[43mmat\u001b[49m\u001b[43m.\u001b[49m\u001b[43mshape\u001b[49m\u001b[43m[\u001b[49m\u001b[32;43m1\u001b[39;49m\u001b[43m]\u001b[49m\u001b[43m)\u001b[49m\u001b[43m,\u001b[49m\n\u001b[32m   1314\u001b[39m \u001b[43m        \u001b[49m\u001b[43mctypes\u001b[49m\u001b[43m.\u001b[49m\u001b[43mc_int\u001b[49m\u001b[43m(\u001b[49m\u001b[43mlayout\u001b[49m\u001b[43m)\u001b[49m\u001b[43m,\u001b[49m\n\u001b[32m   1315\u001b[39m \u001b[43m        \u001b[49m\u001b[43mctypes\u001b[49m\u001b[43m.\u001b[49m\u001b[43mc_int\u001b[49m\u001b[43m(\u001b[49m\u001b[43mpredict_type\u001b[49m\u001b[43m)\u001b[49m\u001b[43m,\u001b[49m\n\u001b[32m   1316\u001b[39m \u001b[43m        \u001b[49m\u001b[43mctypes\u001b[49m\u001b[43m.\u001b[49m\u001b[43mc_int\u001b[49m\u001b[43m(\u001b[49m\u001b[43mstart_iteration\u001b[49m\u001b[43m)\u001b[49m\u001b[43m,\u001b[49m\n\u001b[32m   1317\u001b[39m \u001b[43m        \u001b[49m\u001b[43mctypes\u001b[49m\u001b[43m.\u001b[49m\u001b[43mc_int\u001b[49m\u001b[43m(\u001b[49m\u001b[43mnum_iteration\u001b[49m\u001b[43m)\u001b[49m\u001b[43m,\u001b[49m\n\u001b[32m   1318\u001b[39m \u001b[43m        \u001b[49m\u001b[43m_c_str\u001b[49m\u001b[43m(\u001b[49m\u001b[38;5;28;43mself\u001b[39;49m\u001b[43m.\u001b[49m\u001b[43mpred_parameter\u001b[49m\u001b[43m)\u001b[49m\u001b[43m,\u001b[49m\n\u001b[32m   1319\u001b[39m \u001b[43m        \u001b[49m\u001b[43mctypes\u001b[49m\u001b[43m.\u001b[49m\u001b[43mbyref\u001b[49m\u001b[43m(\u001b[49m\u001b[43mout_num_preds\u001b[49m\u001b[43m)\u001b[49m\u001b[43m,\u001b[49m\n\u001b[32m   1320\u001b[39m \u001b[43m        \u001b[49m\u001b[43mpreds\u001b[49m\u001b[43m.\u001b[49m\u001b[43mctypes\u001b[49m\u001b[43m.\u001b[49m\u001b[43mdata_as\u001b[49m\u001b[43m(\u001b[49m\u001b[43mctypes\u001b[49m\u001b[43m.\u001b[49m\u001b[43mPOINTER\u001b[49m\u001b[43m(\u001b[49m\u001b[43mctypes\u001b[49m\u001b[43m.\u001b[49m\u001b[43mc_double\u001b[49m\u001b[43m)\u001b[49m\u001b[43m)\u001b[49m\u001b[43m,\u001b[49m\n\u001b[32m   1321\u001b[39m \u001b[43m    \u001b[49m\u001b[43m)\u001b[49m\n\u001b[32m   1322\u001b[39m \u001b[43m\u001b[49m\u001b[43m)\u001b[49m\n\u001b[32m   1323\u001b[39m \u001b[38;5;28;01mif\u001b[39;00m n_preds != out_num_preds.value:\n\u001b[32m   1324\u001b[39m     \u001b[38;5;28;01mraise\u001b[39;00m \u001b[38;5;167;01mValueError\u001b[39;00m(\u001b[33m\"\u001b[39m\u001b[33mWrong length for predict results\u001b[39m\u001b[33m\"\u001b[39m)\n",
      "\u001b[36mFile \u001b[39m\u001b[32mc:\\Users\\ahmed\\Downloads\\Building-Cooling-Load-Prediction-Challenge\\venv\\Lib\\site-packages\\lightgbm\\basic.py:313\u001b[39m, in \u001b[36m_safe_call\u001b[39m\u001b[34m(ret)\u001b[39m\n\u001b[32m    305\u001b[39m \u001b[38;5;250m\u001b[39m\u001b[33;03m\"\"\"Check the return value from C API call.\u001b[39;00m\n\u001b[32m    306\u001b[39m \n\u001b[32m    307\u001b[39m \u001b[33;03mParameters\u001b[39;00m\n\u001b[32m   (...)\u001b[39m\u001b[32m    310\u001b[39m \u001b[33;03m    The return value from C API calls.\u001b[39;00m\n\u001b[32m    311\u001b[39m \u001b[33;03m\"\"\"\u001b[39;00m\n\u001b[32m    312\u001b[39m \u001b[38;5;28;01mif\u001b[39;00m ret != \u001b[32m0\u001b[39m:\n\u001b[32m--> \u001b[39m\u001b[32m313\u001b[39m     \u001b[38;5;28;01mraise\u001b[39;00m LightGBMError(_LIB.LGBM_GetLastError().decode(\u001b[33m\"\u001b[39m\u001b[33mutf-8\u001b[39m\u001b[33m\"\u001b[39m))\n",
      "\u001b[31mLightGBMError\u001b[39m: The number of features in data (42) is not the same as it was in training data (41).\nYou can set ``predict_disable_shape_check=true`` to discard this error, but please be aware what you are doing."
     ]
    }
   ],
   "source": [
    "if not os.path.exists(model_path):\n",
    "    raise FileNotFoundError(f\"Trained model not found at {model_path}\")\n",
    "\n",
    "model = joblib.load(model_path)\n",
    "print(\"Model loaded successfully.\")\n",
    "\n",
    "# Align test features to training numeric column set\n",
    "train_feats = pd.read_csv(train_features_path)\n",
    "train_numeric_cols = train_feats.select_dtypes(include=['number']).columns.tolist()\n",
    "# Drop likely label/index columns from training features\n",
    "label_candidates = ['Total_Cooling_Load', 'total_cooling_load', 'load', 'target', 'y']\n",
    "train_numeric_cols = [c for c in train_numeric_cols if (c not in label_candidates) and (not str(c).startswith('Unnamed')) and (str(c).lower() not in ('index','idx'))]\n",
    "# Compare with model expected feature count if available\n",
    "expected = None\n",
    "if hasattr(model, '_Booster') and hasattr(model._Booster, 'num_feature'):\n",
    "    expected = model._Booster.num_feature()\n",
    "    if len(train_numeric_cols) != expected:\n",
    "        print(f'Adjusting feature count: train {len(train_numeric_cols)} -> expected {expected}')\n",
    "        if len(train_numeric_cols) > expected:\n",
    "            train_numeric_cols = train_numeric_cols[:expected]\n",
    "# Build X with exactly training numeric columns\n",
    "X = test_features.copy()\n",
    "for col in train_numeric_cols:\n",
    "    if col not in X.columns:\n",
    "        X[col] = 0\n",
    "X = X[train_numeric_cols]\n",
    "\n",
    "predictions = model.predict(X)\n",
    "print(\"Predictions generated successfully.\")"
   ]
  },
  {
   "cell_type": "markdown",
   "metadata": {},
   "source": [
    "## 4. Visualize Predictions\n",
    "\n",
    "Plot the predictions to visually inspect their distribution and trend over time."
   ]
  },
  {
   "cell_type": "code",
   "execution_count": null,
   "metadata": {},
   "outputs": [
    {
     "data": {
      "image/png": "[encoded data removed]",
      "text/plain": [
       "<Figure size 1500x600 with 1 Axes>"
      ]
     },
     "metadata": {},
     "output_type": "display_data"
    }
   ],
   "source": [
    "plt.figure(figsize=(15, 6))\n",
    "plt.plot(predictions, label='Predictions')\n",
    "plt.title('Test Set Predictions Over Time')\n",
    "plt.xlabel('Time')\n",
    "plt.ylabel('Cooling Load')\n",
    "plt.legend()\n",
    "plt.grid(True)\n",
    "plt.show()"
   ]
  },
  {
   "cell_type": "markdown",
   "metadata": {},
   "source": [
    "## 5. Save Submission File\n",
    "\n",
    "Save the predictions to a CSV file in the required submission format."
   ]
  },
  {
   "cell_type": "code",
   "execution_count": null,
   "metadata": {},
   "outputs": [
    {
     "ename": "NameError",
     "evalue": "name 'save_csv_data' is not defined",
     "output_type": "error",
     "traceback": [
      "\u001b[31m---------------------------------------------------------------------------\u001b[39m",
      "\u001b[31mNameError\u001b[39m                                 Traceback (most recent call last)",
      "\u001b[36mCell\u001b[39m\u001b[36m \u001b[39m\u001b[32mIn[8]\u001b[39m\u001b[32m, line 2\u001b[39m\n\u001b[32m      1\u001b[39m submission = pd.DataFrame({\u001b[33m'\u001b[39m\u001b[33mprediction\u001b[39m\u001b[33m'\u001b[39m: predictions})\n\u001b[32m----> \u001b[39m\u001b[32m2\u001b[39m \u001b[43msave_csv_data\u001b[49m(submission, submission_path)\n\u001b[32m      3\u001b[39m \u001b[38;5;28mprint\u001b[39m(\u001b[33mf\u001b[39m\u001b[33m\"\u001b[39m\u001b[33mSubmission file saved to \u001b[39m\u001b[38;5;132;01m{\u001b[39;00msubmission_path\u001b[38;5;132;01m}\u001b[39;00m\u001b[33m\"\u001b[39m)\n\u001b[32m      4\u001b[39m submission.head()\n",
      "\u001b[31mNameError\u001b[39m: name 'save_csv_data' is not defined"
     ]
    }
   ],
   "source": [
    "\n",
    "submission = pd.DataFrame({'prediction': predictions})\n",
    "save_csv_data(submission, submission_path)\n",
    "print(f\"Submission file saved to {submission_path}\")\n",
    "submission.head()"
   ]
  },
  {
   "cell_type": "markdown",
   "metadata": {},
   "source": [
    "## 6. Ensemble Prediction (Optional)\n",
    "\n",
    "If an ensemble model is available, generate predictions using the ensemble and save them to a separate submission file."
   ]
  },
  {
   "cell_type": "code",
   "execution_count": null,
   "metadata": {},
   "outputs": [
    {
     "ename": "ImportError",
     "evalue": "cannot import name 'save_csv_data' from 'src.utils.helpers' (c:\\Users\\ahmed\\Downloads\\Building-Cooling-Load-Prediction-Challenge\\building-cooling-prediction\\src\\utils\\helpers.py)",
     "output_type": "error",
     "traceback": [
      "\u001b[31m---------------------------------------------------------------------------\u001b[39m",
      "\u001b[31mImportError\u001b[39m                               Traceback (most recent call last)",
      "\u001b[36mCell\u001b[39m\u001b[36m \u001b[39m\u001b[32mIn[7]\u001b[39m\u001b[32m, line 2\u001b[39m\n\u001b[32m      1\u001b[39m \u001b[38;5;28;01mfrom\u001b[39;00m\u001b[38;5;250m \u001b[39m\u001b[34;01msrc\u001b[39;00m\u001b[34;01m.\u001b[39;00m\u001b[34;01mmodels\u001b[39;00m\u001b[34;01m.\u001b[39;00m\u001b[34;01mensemble\u001b[39;00m\u001b[38;5;250m \u001b[39m\u001b[38;5;28;01mimport\u001b[39;00m load_ensemble\n\u001b[32m----> \u001b[39m\u001b[32m2\u001b[39m \u001b[38;5;28;01mfrom\u001b[39;00m\u001b[38;5;250m \u001b[39m\u001b[34;01msrc\u001b[39;00m\u001b[34;01m.\u001b[39;00m\u001b[34;01mutils\u001b[39;00m\u001b[34;01m.\u001b[39;00m\u001b[34;01mhelpers\u001b[39;00m\u001b[38;5;250m \u001b[39m\u001b[38;5;28;01mimport\u001b[39;00m save_csv_data\n\u001b[32m      4\u001b[39m ensemble_path = os.path.join(config[\u001b[33m'\u001b[39m\u001b[33mmodels\u001b[39m\u001b[33m'\u001b[39m][\u001b[33m'\u001b[39m\u001b[33mtrained_models\u001b[39m\u001b[33m'\u001b[39m], \u001b[33m'\u001b[39m\u001b[33mensemble_model.pkl\u001b[39m\u001b[33m'\u001b[39m)\n\u001b[32m      5\u001b[39m \u001b[38;5;28;01mif\u001b[39;00m os.path.exists(ensemble_path):\n",
      "\u001b[31mImportError\u001b[39m: cannot import name 'save_csv_data' from 'src.utils.helpers' (c:\\Users\\ahmed\\Downloads\\Building-Cooling-Load-Prediction-Challenge\\building-cooling-prediction\\src\\utils\\helpers.py)"
     ]
    }
   ],
   "source": [
    "from src.models.ensemble import load_ensemble\n",
    "from src.utils.helpers import save_csv_data\n",
    "\n",
    "ensemble_path = os.path.join(config['models']['trained_models'], 'ensemble_model.pkl')\n",
    "if os.path.exists(ensemble_path):\n",
    "    ensemble = load_ensemble(ensemble_path)\n",
    "    ensemble_preds = ensemble.predict(test_features.select_dtypes(include=['number']))\n",
    "    ensemble_df = pd.DataFrame({'prediction': ensemble_preds})\n",
    "    save_csv_data(ensemble_df, os.path.join(config['data']['submissions'], 'submission_ensemble.csv'))\n",
    "    print(\"Ensemble predictions generated and saved.\")\n",
    "    ensemble_df.head()\n",
    "else:\n",
    "    print('No ensemble model found.')"
   ]
  }
 ],
 "metadata": {
  "kernelspec": {
   "display_name": "venv",
   "language": "python",
   "name": "python3"
  },
  "language_info": {
   "codemirror_mode": {
    "name": "ipython",
    "version": 3
   },
   "file_extension": ".py",
   "mimetype": "text/x-python",
   "name": "python",
   "nbconvert_exporter": "python",
   "pygments_lexer": "ipython3",
   "version": "3.11.9"
  }
 },
 "nbformat": 4,
 "nbformat_minor": 2
}
